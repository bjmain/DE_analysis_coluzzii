{
 "cells": [
  {
   "cell_type": "code",
   "execution_count": 3,
   "metadata": {
    "collapsed": false
   },
   "outputs": [
    {
     "ename": "SyntaxError",
     "evalue": "invalid syntax (<ipython-input-3-e12f36d5217f>, line 2)",
     "output_type": "error",
     "traceback": [
      "\u001b[1;36m  File \u001b[1;32m\"<ipython-input-3-e12f36d5217f>\"\u001b[1;36m, line \u001b[1;32m2\u001b[0m\n\u001b[1;33m    for fq in /home/bradmain/gambiae/malphigs/raw/*-*fastq.gz\u001b[0m\n\u001b[1;37m              ^\u001b[0m\n\u001b[1;31mSyntaxError\u001b[0m\u001b[1;31m:\u001b[0m invalid syntax\n"
     ]
    }
   ],
   "source": [
    "# Map trimmed reads with STAR using parallel\n",
    "#Cut and paste these unix commands:\n",
    "for fq in /home/bradmain/gambiae/malphigs/raw/*-*fastq.gz\n",
    "do\n",
    "echo \"/home/bradmain/gambiae/ASE/bin/STAR/source/STAR --genomeDir /home/bradmain/gambiae/malphigs/raw/STAR/Acolgenome --sjdbGTFfile /home/bradmain/gambiae/malphigs/raw/STAR/Acolgenome/Anopheles-coluzzii-Mali-NIH_BASEFEATURES_AcolM1.3.gtf --readFilesIn $fq --readFilesCommand zcat --outSAMtype BAM Unsorted SortedByCoordinate --outFilterMultimapNmax 1 --outSAMunmapped Within --quantMode TranscriptomeSAM GeneCounts --twopassMode Basic --outFileNamePrefix $(basename $fq _L007_R1_001.fastq.gz) --runThreadN 20\"\n",
    "done\n"
   ]
  },
  {
   "cell_type": "code",
   "execution_count": null,
   "metadata": {
    "collapsed": true
   },
   "outputs": [],
   "source": [
    "#Make ~htseq output\n",
    "#Cut and paste these unix commands:\n",
    "for count in *ReadsPerGene.out.tab\n",
    "do\n",
    "grep ACOM $count | awk '{print $1,$4}' > $(basename $count ReadsPerGene.out.tab)stranded_counts.out\n",
    "done"
   ]
  },
  {
   "cell_type": "code",
   "execution_count": 4,
   "metadata": {
    "collapsed": false
   },
   "outputs": [],
   "source": [
    "%load_ext rpy2.ipython"
   ]
  },
  {
   "cell_type": "code",
   "execution_count": 5,
   "metadata": {
    "collapsed": false
   },
   "outputs": [
    {
     "data": {
      "text/plain": [
       "          V1   V2\n",
       "1 ACOM024524    0\n",
       "2 ACOM024536 1183\n",
       "3 ACOM024533    1\n",
       "4 ACOM024534    3\n",
       "5 ACOM042511 5390\n"
      ]
     },
     "metadata": {},
     "output_type": "display_data"
    }
   ],
   "source": [
    "%%R\n",
    "files <- c(\"/home/bradmain/gambiae/malphigs/raw/STAR/Acol_output/cyp1-C1-AE_S192stranded_counts.out\",\n",
    "\"/home/bradmain/gambiae/malphigs/raw/STAR/Acol_output/cyp1-C1-YY_S191stranded_counts.out\",\n",
    "\"/home/bradmain/gambiae/malphigs/raw/STAR/Acol_output/cyp1-C2-AE_S194stranded_counts.out\",\n",
    "\"/home/bradmain/gambiae/malphigs/raw/STAR/Acol_output/cyp1-C2-YY_S193stranded_counts.out\",\n",
    "\"/home/bradmain/gambiae/malphigs/raw/STAR/Acol_output/cyp1-C3-AE_S196stranded_counts.out\",\n",
    "\"/home/bradmain/gambiae/malphigs/raw/STAR/Acol_output/cyp1-C3-YY_S195stranded_counts.out\",\n",
    "\"/home/bradmain/gambiae/malphigs/raw/STAR/Acol_output/cyp1-T1-AE_S198stranded_counts.out\",\n",
    "\"/home/bradmain/gambiae/malphigs/raw/STAR/Acol_output/cyp1-T1-YY_S197stranded_counts.out\",\n",
    "\"/home/bradmain/gambiae/malphigs/raw/STAR/Acol_output/cyp1-T2-AE_S200stranded_counts.out\",\n",
    "\"/home/bradmain/gambiae/malphigs/raw/STAR/Acol_output/cyp1-T2-YY_S199stranded_counts.out\",\n",
    "\"/home/bradmain/gambiae/malphigs/raw/STAR/Acol_output/cyp1-T3-AE_S202stranded_counts.out\",\n",
    "\"/home/bradmain/gambiae/malphigs/raw/STAR/Acol_output/cyp1-T3-YY_S201stranded_counts.out\",\n",
    "\"/home/bradmain/gambiae/malphigs/raw/STAR/Acol_output/Mopti-C1-AE_S179stranded_counts.out\",\n",
    "\"/home/bradmain/gambiae/malphigs/raw/STAR/Acol_output/Mopti-C1-BM_S180stranded_counts.out\",\n",
    "\"/home/bradmain/gambiae/malphigs/raw/STAR/Acol_output/Mopti-C2-AE_S181stranded_counts.out\",\n",
    "\"/home/bradmain/gambiae/malphigs/raw/STAR/Acol_output/Mopti-C2-YY_S182stranded_counts.out\",\n",
    "\"/home/bradmain/gambiae/malphigs/raw/STAR/Acol_output/Mopti-C3-AE_S184stranded_counts.out\",\n",
    "\"/home/bradmain/gambiae/malphigs/raw/STAR/Acol_output/Mopti-C3-YY_S183stranded_counts.out\",\n",
    "\"/home/bradmain/gambiae/malphigs/raw/STAR/Acol_output/Mopti-T1-AE_S185stranded_counts.out\",\n",
    "\"/home/bradmain/gambiae/malphigs/raw/STAR/Acol_output/Mopti-T1-BM_S186stranded_counts.out\",\n",
    "\"/home/bradmain/gambiae/malphigs/raw/STAR/Acol_output/Mopti-T2-BM_S187stranded_counts.out\",\n",
    "\"/home/bradmain/gambiae/malphigs/raw/STAR/Acol_output/Mopti-T2-YY_S188stranded_counts.out\",\n",
    "\"/home/bradmain/gambiae/malphigs/raw/STAR/Acol_output/Mopti-T3-AE_S190stranded_counts.out\",\n",
    "\"/home/bradmain/gambiae/malphigs/raw/STAR/Acol_output/Mopti-T3-YY_S189stranded_counts.out\")\n",
    "read.delim(files[1], nrow=5, sep = \"\", header = FALSE)\n"
   ]
  },
  {
   "cell_type": "code",
   "execution_count": 6,
   "metadata": {
    "collapsed": false
   },
   "outputs": [
    {
     "data": {
      "text/plain": [
       "[1] \"DGEList\"\n",
       "attr(,\"package\")\n",
       "[1] \"edgeR\"\n"
      ]
     },
     "metadata": {},
     "output_type": "display_data"
    }
   ],
   "source": [
    "%%R\n",
    "#IMPORT DATA\n",
    "library(limma)\n",
    "library(edgeR)\n",
    "#x <- readDGE(files, columns=c(1,2),header=FALSE)\n",
    "x <- readDGE(files,sep = \"\",header=FALSE)\n",
    "class(x)\n"
   ]
  },
  {
   "cell_type": "code",
   "execution_count": 7,
   "metadata": {
    "collapsed": false
   },
   "outputs": [
    {
     "data": {
      "text/plain": [
       " [1] \"cyp1-C1-AE_S192\"  \"cyp1-C1-YY_S191\"  \"cyp1-C2-AE_S194\"  \"cyp1-C2-YY_S193\" \n",
       " [5] \"cyp1-C3-AE_S196\"  \"cyp1-C3-YY_S195\"  \"cyp1-T1-AE_S198\"  \"cyp1-T1-YY_S197\" \n",
       " [9] \"cyp1-T2-AE_S200\"  \"cyp1-T2-YY_S199\"  \"cyp1-T3-AE_S202\"  \"cyp1-T3-YY_S201\" \n",
       "[13] \"Mopti-C1-AE_S179\" \"Mopti-C1-BM_S180\" \"Mopti-C2-AE_S181\" \"Mopti-C2-YY_S182\"\n",
       "[17] \"Mopti-C3-AE_S184\" \"Mopti-C3-YY_S183\" \"Mopti-T1-AE_S185\" \"Mopti-T1-BM_S186\"\n",
       "[21] \"Mopti-T2-BM_S187\" \"Mopti-T2-YY_S188\" \"Mopti-T3-AE_S190\" \"Mopti-T3-YY_S189\"\n"
      ]
     },
     "metadata": {},
     "output_type": "display_data"
    }
   ],
   "source": [
    "%%R\n",
    "samplenames <- substring(colnames(x), 54, nchar(colnames(x))-15)\n",
    "samplenames"
   ]
  },
  {
   "cell_type": "code",
   "execution_count": 8,
   "metadata": {
    "collapsed": false
   },
   "outputs": [
    {
     "data": {
      "text/plain": [
       "                                                                                                    files\n",
       "cyp1-C1-AE_S192   /home/bradmain/gambiae/malphigs/raw/STAR/Acol_output/cyp1-C1-AE_S192stranded_counts.out\n",
       "cyp1-C1-YY_S191   /home/bradmain/gambiae/malphigs/raw/STAR/Acol_output/cyp1-C1-YY_S191stranded_counts.out\n",
       "cyp1-C2-AE_S194   /home/bradmain/gambiae/malphigs/raw/STAR/Acol_output/cyp1-C2-AE_S194stranded_counts.out\n",
       "cyp1-C2-YY_S193   /home/bradmain/gambiae/malphigs/raw/STAR/Acol_output/cyp1-C2-YY_S193stranded_counts.out\n",
       "cyp1-C3-AE_S196   /home/bradmain/gambiae/malphigs/raw/STAR/Acol_output/cyp1-C3-AE_S196stranded_counts.out\n",
       "cyp1-C3-YY_S195   /home/bradmain/gambiae/malphigs/raw/STAR/Acol_output/cyp1-C3-YY_S195stranded_counts.out\n",
       "cyp1-T1-AE_S198   /home/bradmain/gambiae/malphigs/raw/STAR/Acol_output/cyp1-T1-AE_S198stranded_counts.out\n",
       "cyp1-T1-YY_S197   /home/bradmain/gambiae/malphigs/raw/STAR/Acol_output/cyp1-T1-YY_S197stranded_counts.out\n",
       "cyp1-T2-AE_S200   /home/bradmain/gambiae/malphigs/raw/STAR/Acol_output/cyp1-T2-AE_S200stranded_counts.out\n",
       "cyp1-T2-YY_S199   /home/bradmain/gambiae/malphigs/raw/STAR/Acol_output/cyp1-T2-YY_S199stranded_counts.out\n",
       "cyp1-T3-AE_S202   /home/bradmain/gambiae/malphigs/raw/STAR/Acol_output/cyp1-T3-AE_S202stranded_counts.out\n",
       "cyp1-T3-YY_S201   /home/bradmain/gambiae/malphigs/raw/STAR/Acol_output/cyp1-T3-YY_S201stranded_counts.out\n",
       "Mopti-C1-AE_S179 /home/bradmain/gambiae/malphigs/raw/STAR/Acol_output/Mopti-C1-AE_S179stranded_counts.out\n",
       "Mopti-C1-BM_S180 /home/bradmain/gambiae/malphigs/raw/STAR/Acol_output/Mopti-C1-BM_S180stranded_counts.out\n",
       "Mopti-C2-AE_S181 /home/bradmain/gambiae/malphigs/raw/STAR/Acol_output/Mopti-C2-AE_S181stranded_counts.out\n",
       "Mopti-C2-YY_S182 /home/bradmain/gambiae/malphigs/raw/STAR/Acol_output/Mopti-C2-YY_S182stranded_counts.out\n",
       "Mopti-C3-AE_S184 /home/bradmain/gambiae/malphigs/raw/STAR/Acol_output/Mopti-C3-AE_S184stranded_counts.out\n",
       "Mopti-C3-YY_S183 /home/bradmain/gambiae/malphigs/raw/STAR/Acol_output/Mopti-C3-YY_S183stranded_counts.out\n",
       "Mopti-T1-AE_S185 /home/bradmain/gambiae/malphigs/raw/STAR/Acol_output/Mopti-T1-AE_S185stranded_counts.out\n",
       "Mopti-T1-BM_S186 /home/bradmain/gambiae/malphigs/raw/STAR/Acol_output/Mopti-T1-BM_S186stranded_counts.out\n",
       "Mopti-T2-BM_S187 /home/bradmain/gambiae/malphigs/raw/STAR/Acol_output/Mopti-T2-BM_S187stranded_counts.out\n",
       "Mopti-T2-YY_S188 /home/bradmain/gambiae/malphigs/raw/STAR/Acol_output/Mopti-T2-YY_S188stranded_counts.out\n",
       "Mopti-T3-AE_S190 /home/bradmain/gambiae/malphigs/raw/STAR/Acol_output/Mopti-T3-AE_S190stranded_counts.out\n",
       "Mopti-T3-YY_S189 /home/bradmain/gambiae/malphigs/raw/STAR/Acol_output/Mopti-T3-YY_S189stranded_counts.out\n",
       "                 group lib.size norm.factors genotype person trt\n",
       "cyp1-C1-AE_S192      1  6968707            1     cyp1     AE   C\n",
       "cyp1-C1-YY_S191      1  3955556            1     cyp1     YY   C\n",
       "cyp1-C2-AE_S194      1  5552593            1     cyp1     AE   C\n",
       "cyp1-C2-YY_S193      1  9275431            1     cyp1     YY   C\n",
       "cyp1-C3-AE_S196      1 12831777            1     cyp1     AE   C\n",
       "cyp1-C3-YY_S195      1  9811119            1     cyp1     YY   C\n",
       "cyp1-T1-AE_S198      1  9549685            1     cyp1     AE   T\n",
       "cyp1-T1-YY_S197      1 10892565            1     cyp1     YY   T\n",
       "cyp1-T2-AE_S200      1  9450703            1     cyp1     AE   T\n",
       "cyp1-T2-YY_S199      1  9663468            1     cyp1     YY   T\n",
       "cyp1-T3-AE_S202      1 10300429            1     cyp1     AE   T\n",
       "cyp1-T3-YY_S201      1 10560112            1     cyp1     YY   T\n",
       "Mopti-C1-AE_S179     1  8062707            1    Mopti     AE   C\n",
       "Mopti-C1-BM_S180     1  7762463            1    Mopti     BM   C\n",
       "Mopti-C2-AE_S181     1  5122235            1    Mopti     AE   C\n",
       "Mopti-C2-YY_S182     1  7739964            1    Mopti     YY   C\n",
       "Mopti-C3-AE_S184     1 13156564            1    Mopti     AE   C\n",
       "Mopti-C3-YY_S183     1  8281027            1    Mopti     YY   C\n",
       "Mopti-T1-AE_S185     1  9531833            1    Mopti     AE   T\n",
       "Mopti-T1-BM_S186     1  9177604            1    Mopti     BM   T\n",
       "Mopti-T2-BM_S187     1  7672524            1    Mopti     BM   T\n",
       "Mopti-T2-YY_S188     1  8328357            1    Mopti     YY   T\n",
       "Mopti-T3-AE_S190     1  8284887            1    Mopti     AE   T\n",
       "Mopti-T3-YY_S189     1  7512354            1    Mopti     YY   T\n"
      ]
     },
     "metadata": {},
     "output_type": "display_data"
    }
   ],
   "source": [
    "%%R\n",
    "colnames(x) <- samplenames\n",
    "genotype <- as.factor(c(\"cyp1\", \"cyp1\", \"cyp1\", \"cyp1\", \"cyp1\", \"cyp1\", \"cyp1\", \"cyp1\", \"cyp1\", \"cyp1\", \"cyp1\",\"cyp1\",\n",
    " \"Mopti\", \"Mopti\", \"Mopti\", \"Mopti\", \"Mopti\", \"Mopti\",\"Mopti\", \"Mopti\", \"Mopti\", \"Mopti\", \"Mopti\", \"Mopti\"))\n",
    "x$samples$genotype <- genotype\n",
    "\n",
    "# genotype <- as.factor(c(1, 1, 1, 1, 1, 1, 1, 1, 1, 1, 1,1,0,0,0,0,0,0,0,0,0,0,0,0))\n",
    "# x$samples$genotype <- genotype\n",
    "# MOPTI <- as.factor(c(0,0,0,0,0,0,0,0,0,0,0,0,1, 1, 1, 1, 1, 1, 1, 1, 1, 1, 1,1))\n",
    "# x$samples$MOPTI <- MOPTI\n",
    "\n",
    "person <- as.factor(c(\"AE\", \"YY\", \"AE\", \"YY\", \"AE\", \"YY\", \"AE\", \"YY\", \"AE\", \"YY\", \"AE\",\"YY\",\n",
    " \"AE\", \"BM\", \"AE\", \"YY\", \"AE\", \"YY\",\"AE\", \"BM\", \"BM\", \"YY\", \"AE\", \"YY\"))\n",
    "x$samples$person <- person\n",
    "\n",
    "trt <- as.factor(c(\"C\",\"C\",\"C\",\"C\",\"C\",\"C\",\"T\",\"T\",\"T\",\"T\",\"T\",\"T\",\"C\",\"C\",\"C\",\"C\",\"C\",\"C\",\"T\",\"T\",\"T\",\"T\",\"T\",\"T\"))\n",
    "x$samples$trt <- trt\n",
    "\n",
    "# control <- as.factor(c(1, 1, 1, 1, 1, 1,0,0,0,0,0,0,1, 1, 1, 1, 1, 1,0,0,0,0,0,0))\n",
    "# x$samples$control <- control\n",
    "# treatment <- as.factor(c(0,0,0,0,0,0,1, 1, 1, 1, 1, 1,0,0,0,0,0,0,1, 1, 1, 1, 1, 1))\n",
    "# x$samples$treatment <- treatment\n",
    "\n",
    "print(x$samples)\n"
   ]
  },
  {
   "cell_type": "code",
   "execution_count": 9,
   "metadata": {
    "collapsed": false
   },
   "outputs": [
    {
     "data": {
      "text/plain": [
       "[1] 14560    24\n",
       "[1] 8485   24\n"
      ]
     },
     "metadata": {},
     "output_type": "display_data"
    }
   ],
   "source": [
    "%%R\n",
    "cpm <- cpm(x)\n",
    "lcpm <- cpm(x, log=TRUE)\n",
    "# #Only keep genes when cpm > 2 for at least 5 samples.\n",
    "keep.exprs <- rowSums(cpm>2)>=5\n",
    "print(dim(x))\n",
    "x <- x[keep.exprs,,]\n",
    "print(dim(x))"
   ]
  },
  {
   "cell_type": "code",
   "execution_count": 10,
   "metadata": {
    "collapsed": false
   },
   "outputs": [],
   "source": [
    "%%R\n",
    "write.table(x$counts, file = \"detected_genes.tsv\",sep=\"\\t\")\n"
   ]
  },
  {
   "cell_type": "code",
   "execution_count": 11,
   "metadata": {
    "collapsed": false
   },
   "outputs": [],
   "source": [
    "import pandas as pd\n",
    "\n",
    "detected = pd.read_table(\"detected_genes.tsv\")\n",
    "detected['id'] = detected.index\n"
   ]
  },
  {
   "cell_type": "code",
   "execution_count": 12,
   "metadata": {
    "collapsed": false
   },
   "outputs": [
    {
     "data": {
      "image/png": "[encoded data removed]"
     },
     "metadata": {},
     "output_type": "display_data"
    }
   ],
   "source": [
    "%%R\n",
    "library(RColorBrewer)\n",
    "nsamples <- ncol(x)\n",
    "col <- brewer.pal(nsamples, \"Paired\")\n",
    "par(mfrow=c(1,2))\n",
    "plot(density(lcpm[,1]), col=col[1], lwd=2, ylim=c(0,0.21), las=2,\n",
    " main=\"\", xlab=\"\")\n",
    "title(main=\"A. Raw data\", xlab=\"Log-cpm\")\n",
    "abline(v=0, lty=3)\n",
    "for (i in 2:nsamples){\n",
    "den <- density(lcpm[,i])\n",
    "lines(den$x, den$y, col=col[i], lwd=2)\n",
    "}\n",
    "#legend(\"topright\", samplenames, text.col=col, bty=\"n\")\n",
    "lcpm <- cpm(x, log=TRUE)\n",
    "plot(density(lcpm[,1]), col=col[1], lwd=2, ylim=c(0,0.21), las=2,\n",
    " main=\"\", xlab=\"\")\n",
    "title(main=\"B. Filtered data\", xlab=\"Log-cpm\")\n",
    "abline(v=0, lty=3)\n",
    "for (i in 2:nsamples){\n",
    " den <- density(lcpm[,i])\n",
    " lines(den$x, den$y, col=col[i], lwd=2)\n",
    "}\n",
    "#legend(\"topright\", samplenames, text.col=col, bty=\"n\")"
   ]
  },
  {
   "cell_type": "code",
   "execution_count": 13,
   "metadata": {
    "collapsed": false
   },
   "outputs": [
    {
     "data": {
      "text/plain": [
       " [1] 1.1425845 1.1266490 1.1149156 1.1063358 1.1795451 1.2048503 1.1355253\n",
       " [8] 1.1363614 1.0936807 1.1075902 1.0735055 1.0802964 0.6958836 0.6855480\n",
       "[15] 0.8066450 1.0240694 1.0732157 1.1443269 0.7770529 0.6762607 0.6710811\n",
       "[22] 1.2019876 1.1162044 1.0676021\n"
      ]
     },
     "metadata": {},
     "output_type": "display_data"
    }
   ],
   "source": [
    "%%R\n",
    "x <- calcNormFactors(x, method = \"TMM\")\n",
    "x$samples$norm.factors\n",
    "#print(x)\n",
    "#counts.data$samples$norm.factors"
   ]
  },
  {
   "cell_type": "code",
   "execution_count": 14,
   "metadata": {
    "collapsed": false
   },
   "outputs": [
    {
     "data": {
      "image/png": "[encoded data removed]"
     },
     "metadata": {},
     "output_type": "display_data"
    },
    {
     "data": {
      "image/png": "[encoded data removed]"
     },
     "metadata": {},
     "output_type": "display_data"
    },
    {
     "data": {
      "image/png": "[encoded data removed]"
     },
     "metadata": {},
     "output_type": "display_data"
    }
   ],
   "source": [
    "%%R\n",
    "lcpm <- cpm(x, log=TRUE)\n",
    "par(mfrow=c(1,2))\n",
    "\n",
    "col.genotype <- genotype\n",
    "levels(col.genotype) <- brewer.pal(nlevels(col.genotype), \"Set1\")\n",
    "col.genotype <- as.character(col.genotype)\n",
    "\n",
    "col.person <- person\n",
    "levels(col.person) <- brewer.pal(nlevels(col.person), \"Set2\")\n",
    "col.person <- as.character(col.person)\n",
    "\n",
    "col.trt <- trt\n",
    "levels(col.trt) <- brewer.pal(nlevels(col.trt), \"Set3\")\n",
    "col.trt <- as.character(col.trt)\n",
    "\n",
    "plotMDS(lcpm, labels=person, col=col.person)\n",
    "title(main=\"A. person\")\n",
    "plotMDS(lcpm, labels=genotype, col=col.genotype)\n",
    "title(main=\"A. genotypes\")\n",
    "plotMDS(lcpm, labels=trt)\n",
    "title(main=\"A. trt\")\n",
    "\n",
    "\n",
    "plotMDS(lcpm, labels=person, col=col.person, dim=c(3,4))\n",
    "title(main=\"B. persons\")\n",
    "plotMDS(lcpm, labels=genotype, col=col.genotype, dim=c(3,4))\n",
    "title(main=\"B. genotypes\")\n",
    "plotMDS(lcpm, labels=trt, dim=c(3,4))\n",
    "title(main=\"B. trt\")"
   ]
  },
  {
   "cell_type": "markdown",
   "metadata": {},
   "source": [
    "### Dim 1v2 is mostly experimentor-effect\n",
    "### Dim 3v4 is mostly genotype-effect"
   ]
  },
  {
   "cell_type": "code",
   "execution_count": 15,
   "metadata": {
    "collapsed": false
   },
   "outputs": [
    {
     "data": {
      "text/plain": [
       "   cyp1.C Mopti.C cyp1.T Mopti.T personBM personYY\n",
       "1       1       0      0       0        0        0\n",
       "2       1       0      0       0        0        1\n",
       "3       1       0      0       0        0        0\n",
       "4       1       0      0       0        0        1\n",
       "5       1       0      0       0        0        0\n",
       "6       1       0      0       0        0        1\n",
       "7       0       0      1       0        0        0\n",
       "8       0       0      1       0        0        1\n",
       "9       0       0      1       0        0        0\n",
       "10      0       0      1       0        0        1\n",
       "11      0       0      1       0        0        0\n",
       "12      0       0      1       0        0        1\n",
       "13      0       1      0       0        0        0\n",
       "14      0       1      0       0        1        0\n",
       "15      0       1      0       0        0        0\n",
       "16      0       1      0       0        0        1\n",
       "17      0       1      0       0        0        0\n",
       "18      0       1      0       0        0        1\n",
       "19      0       0      0       1        0        0\n",
       "20      0       0      0       1        1        0\n",
       "21      0       0      0       1        1        0\n",
       "22      0       0      0       1        0        1\n",
       "23      0       0      0       1        0        0\n",
       "24      0       0      0       1        0        1\n",
       "attr(,\"assign\")\n",
       "[1] 1 1 1 1 2 2\n",
       "attr(,\"contrasts\")\n",
       "attr(,\"contrasts\")$group\n",
       "[1] \"contr.treatment\"\n",
       "\n",
       "attr(,\"contrasts\")$person\n",
       "[1] \"contr.treatment\"\n",
       "\n"
      ]
     },
     "metadata": {},
     "output_type": "display_data"
    }
   ],
   "source": [
    "%%R\n",
    "\n",
    "group <- interaction(genotype,trt)\n",
    "\n",
    "#Interaction effect. 2 factor ANOVA + person\n",
    "design <- model.matrix(~0+group+person)  #group is a cell means model\n",
    "\n",
    "colnames(design) <- gsub(\"group\", \"\", colnames(design))\n",
    "design\n",
    "\n"
   ]
  },
  {
   "cell_type": "code",
   "execution_count": 16,
   "metadata": {
    "collapsed": false
   },
   "outputs": [
    {
     "data": {
      "text/plain": [
       "          Contrasts\n",
       "Levels     gt_control gt_trt trt_M trt_C gt_by_trt\n",
       "  cyp1.C            1      0    -1     0        -1\n",
       "  Mopti.C          -1      0     0    -1         1\n",
       "  cyp1.T            0      1     1     0         1\n",
       "  Mopti.T           0     -1     0     1        -1\n",
       "  personBM          0      0     0     0         0\n",
       "  personYY          0      0     0     0         0\n"
      ]
     },
     "metadata": {},
     "output_type": "display_data"
    }
   ],
   "source": [
    "%%R\n",
    "contr.matrix <- makeContrasts(\n",
    " gt_control = cyp1.C - Mopti.C,\n",
    " gt_trt = cyp1.T - Mopti.T,\n",
    " trt_M = cyp1.T - cyp1.C,\n",
    " trt_C = Mopti.T - Mopti.C,\n",
    " gt_by_trt = (cyp1.T - Mopti.T) - (cyp1.C - Mopti.C),\n",
    "    # GT = cyp1 - Mopti,\n",
    "    #TRT = trtC-trtT,\n",
    " levels = colnames(design))\n",
    "contr.matrix"
   ]
  },
  {
   "cell_type": "code",
   "execution_count": 18,
   "metadata": {
    "collapsed": false
   },
   "outputs": [
    {
     "data": {
      "image/png": "[encoded data removed]"
     },
     "metadata": {},
     "output_type": "display_data"
    }
   ],
   "source": [
    "%%R\n",
    "v <- voom(x, design, plot=TRUE)\n",
    "#v"
   ]
  },
  {
   "cell_type": "code",
   "execution_count": 19,
   "metadata": {
    "collapsed": false
   },
   "outputs": [
    {
     "data": {
      "image/png": "[encoded data removed]"
     },
     "metadata": {},
     "output_type": "display_data"
    }
   ],
   "source": [
    "%%R\n",
    "#apply voom precision weights to the data\n",
    "vfit <- lmFit(v, design)\n",
    "vfit <- contrasts.fit(vfit, contrasts=contr.matrix)\n",
    "efit <- eBayes(vfit)\n",
    "plotSA(efit)"
   ]
  },
  {
   "cell_type": "code",
   "execution_count": 20,
   "metadata": {
    "collapsed": false
   },
   "outputs": [
    {
     "data": {
      "text/plain": [
       "   gt_control gt_trt trt_M trt_C gt_by_trt\n",
       "-1         68     33     0     0         0\n",
       "0        8359   8402  8485  8485      8485\n",
       "1          58     50     0     0         0\n"
      ]
     },
     "metadata": {},
     "output_type": "display_data"
    }
   ],
   "source": [
    "%%R\n",
    "summary(decideTests(efit))\n"
   ]
  },
  {
   "cell_type": "code",
   "execution_count": 21,
   "metadata": {
    "collapsed": false
   },
   "outputs": [
    {
     "data": {
      "text/plain": [
       "   gt_control\n",
       "-1         68\n",
       "0        8359\n",
       "1          58\n"
      ]
     },
     "metadata": {},
     "output_type": "display_data"
    }
   ],
   "source": [
    "%%R -o C_diff\n",
    "contr.matrix <- makeContrasts(\n",
    " gt_control = cyp1.C - Mopti.C,\n",
    "#  gt_trt = cyp1.T - Mopti.T,\n",
    "#  trt_M = cyp1.T - cyp1.C,\n",
    "#  trt_C = Mopti.T - Mopti.C,\n",
    "#  gt_by_trt = (cyp1.T - Mopti.T) - (cyp1.C - Mopti.C),\n",
    "    # GT = cyp1 - Mopti,\n",
    "    #TRT = trtC-trtT,\n",
    " levels = colnames(design))\n",
    "contr.matrix\n",
    "vfit <- lmFit(v, design)\n",
    "\n",
    "vfit <- contrasts.fit(vfit, contrasts=contr.matrix)\n",
    "efit <- eBayes(vfit)\n",
    "print(summary(decideTests(efit)))\n",
    "\n",
    "C_diff <- topTable(efit, n=Inf)\n",
    "\n",
    "write.table(C_diff, file = \"C_diff.tsv\",sep=\"\\t\")\n",
    "\n"
   ]
  },
  {
   "cell_type": "code",
   "execution_count": 19,
   "metadata": {
    "collapsed": false
   },
   "outputs": [
    {
     "data": {
      "text/plain": [
       "   gt_trt\n",
       "-1     33\n",
       "0    8402\n",
       "1      50\n"
      ]
     },
     "metadata": {},
     "output_type": "display_data"
    }
   ],
   "source": [
    "%%R -o T_diff\n",
    "contr.matrix <- makeContrasts(\n",
    "#  gt_control = cyp1.C - Mopti.C,\n",
    " gt_trt = cyp1.T - Mopti.T,\n",
    "#  trt_M = cyp1.T - cyp1.C,\n",
    "#  trt_C = Mopti.T - Mopti.C,\n",
    "#  gt_by_trt = (cyp1.T - Mopti.T) - (cyp1.C - Mopti.C),\n",
    "    # GT = cyp1 - Mopti,\n",
    "    #TRT = trtC-trtT,\n",
    " levels = colnames(design))\n",
    "contr.matrix\n",
    "vfit <- lmFit(v, design)\n",
    "\n",
    "vfit <- contrasts.fit(vfit, contrasts=contr.matrix)\n",
    "efit <- eBayes(vfit)\n",
    "print(summary(decideTests(efit)))\n",
    "\n",
    "T_diff <- topTable(efit, n=Inf)\n",
    "\n",
    "write.table(T_diff, file = \"T_diff.tsv\",sep=\"\\t\")\n",
    "\n"
   ]
  },
  {
   "cell_type": "code",
   "execution_count": 22,
   "metadata": {
    "collapsed": false
   },
   "outputs": [
    {
     "name": "stdout",
     "output_type": "stream",
     "text": [
      "22 61 65\n",
      "148\n"
     ]
    },
    {
     "data": {
      "image/png": "[encoded data removed]",
      "text/plain": [
       "<matplotlib.figure.Figure at 0x7f71901159e8>"
      ]
     },
     "metadata": {},
     "output_type": "display_data"
    }
   ],
   "source": [
    "import pandas as pd\n",
    "import matplotlib_venn as V\n",
    "%matplotlib inline\n",
    "\n",
    "\n",
    "#treatment DE genes\n",
    "trt_diff = pd.read_csv(\"T_diff.csv\")\n",
    "trt_diff.columns = ['Acol_gene', 'logFC', 'AveExpr', 't', 'P.Value', 'adj.P.Val', 'B']\n",
    "\n",
    "#filter by adjusted pval\n",
    "trt_sig = trt_diff.loc[trt_diff['adj.P.Val'] <= 0.05]\n",
    "trt_sig.to_csv('trt.csv', index=False)\n",
    "#for line in open(\"trt.csv\"):\n",
    "#    print(line.strip())\n",
    "trt_genes = set(trt_sig['Acol_gene'].tolist())\n",
    "\n",
    "#control DE genes\n",
    "control_diff = pd.read_csv(\"C_diff.csv\")\n",
    "control_diff.columns = ['Acol_gene', 'logFC', 'AveExpr', 't', 'P.Value', 'adj.P.Val', 'B']\n",
    "\n",
    "#filter by adjusted pval\n",
    "control_sig = control_diff.loc[control_diff['adj.P.Val'] <= 0.05]\n",
    "control_sig.to_csv('control.csv', index=False)\n",
    "\n",
    "control_genes = set(control_sig['Acol_gene'].tolist())\n",
    "\n",
    "V.venn2([trt_genes,control_genes], ( \"trt\",\"control\"))\n",
    "\n",
    "trt_only = trt_genes - control_genes\n",
    "control_only = control_genes - trt_genes\n",
    "overlap = control_genes.intersection(trt_genes)\n",
    "\n",
    "trt_df = trt_diff.loc[trt_diff['Acol_gene'].isin(trt_only)].drop_duplicates()\n",
    "#print('trt_df', len(trt_df),trt_df)\n",
    "\n",
    "C_df = control_diff.loc[trt_diff['Acol_gene'].isin(control_only)].drop_duplicates()\n",
    "#print('C_df', len(C_df),C_df)\n",
    "\n",
    "both_df = control_diff.loc[trt_diff['Acol_gene'].isin(overlap)].drop_duplicates()\n",
    "\n",
    "trt = list(trt_only)\n",
    "print(len(trt_df), len(both_df), len(C_df))\n",
    "print(len(trt_df) + len(both_df) + len(C_df))"
   ]
  },
  {
   "cell_type": "code",
   "execution_count": 23,
   "metadata": {
    "collapsed": false
   },
   "outputs": [
    {
     "name": "stdout",
     "output_type": "stream",
     "text": [
      "control\n",
      "      Acol_gene     logFC   AveExpr       t   P.Value  adj.P.Val         B\n",
      "901  ACOM036098 -0.557394  9.536336 -2.2855  0.031991   0.326346 -4.199303\n",
      "trt\n",
      "       Acol_gene     logFC   AveExpr         t   P.Value  adj.P.Val        B\n",
      "8240  ACOM036098 -0.039542  9.536336 -0.154013  0.878965   0.955543 -6.61137\n"
     ]
    }
   ],
   "source": [
    "# How is CYP9K1 expressed?\n",
    "import pandas as pd\n",
    "import matplotlib_venn as V\n",
    "%matplotlib inline\n",
    "print(\"control\")\n",
    "print(control_diff.loc[control_diff['Acol_gene'] == 'ACOM036098'])\n",
    "print(\"trt\")\n",
    "print(trt_diff.loc[trt_diff['Acol_gene'] == 'ACOM036098'])\n",
    "\n"
   ]
  },
  {
   "cell_type": "code",
   "execution_count": 24,
   "metadata": {
    "collapsed": true
   },
   "outputs": [],
   "source": [
    "#gene conversion key\n",
    "import pandas as pd\n",
    "info = pd.read_csv(\"entrez_genes.txt\", delimiter='\\t')\n",
    "info.columns = ['Acol_gene', 'ID', 'Agap_gene', 'Agap_ID', 'name', 'descrip', 'genbank', 'entrez', 'RefSeq']\n",
    "info = info[[\"Acol_gene\",\"Agap_gene\",\"name\",\"descrip\"]]"
   ]
  },
  {
   "cell_type": "code",
   "execution_count": 25,
   "metadata": {
    "collapsed": false
   },
   "outputs": [],
   "source": [
    "detected = pd.read_table(\"detected_genes.tsv\")\n",
    "detected['Acol_gene'] = detected.index\n",
    "\n",
    "detected_agam = info.merge(detected, on='Acol_gene').drop_duplicates()\n",
    "detected_agam.to_csv(\"detected_agam\", sep='\\t')\n",
    "\n"
   ]
  },
  {
   "cell_type": "code",
   "execution_count": 26,
   "metadata": {
    "collapsed": false
   },
   "outputs": [],
   "source": [
    "trt_merged = info.merge(trt_sig, on='Acol_gene').drop_duplicates()\n",
    "control_merged = info.merge(control_sig, on='Acol_gene').drop_duplicates()"
   ]
  },
  {
   "cell_type": "code",
   "execution_count": 27,
   "metadata": {
    "collapsed": false
   },
   "outputs": [],
   "source": [
    "# Genes on Detox chip\n",
    "detox = pd.read_table(\"/home/bradmain/git/Acol_cyp1_DESeq2/detox_chip/detox_chip_agap.txt2\", header=None)\n",
    "detox_agaps = set(detox[0])\n"
   ]
  },
  {
   "cell_type": "raw",
   "metadata": {},
   "source": [
    "print(trt_agaps)"
   ]
  },
  {
   "cell_type": "code",
   "execution_count": 28,
   "metadata": {
    "collapsed": false
   },
   "outputs": [
    {
     "name": "stdout",
     "output_type": "stream",
     "text": [
      "AGAP006726\n",
      "     Acol_gene   Agap_gene     name  \\\n",
      "12  ACOM023351  AGAP006726  COEAE5G   \n",
      "\n",
      "                                              descrip    logFC   AveExpr  \\\n",
      "12  carboxylesterase [Source:VB Community Annotati...  1.67637  4.402045   \n",
      "\n",
      "           t       P.Value  adj.P.Val         B  \n",
      "12  7.068294  3.678967e-07   0.000642  6.709277  \n",
      "\n",
      "AGAP003257\n",
      "     Acol_gene   Agap_gene   name  \\\n",
      "45  ACOM035751  AGAP003257  GSTU2   \n",
      "\n",
      "                                              descrip     logFC   AveExpr  \\\n",
      "45  glutathione S-transferase unclassified 2 [Sour... -1.385536  4.736792   \n",
      "\n",
      "           t   P.Value  adj.P.Val         B  \n",
      "45 -4.379362  0.000226   0.030905  0.476856  \n",
      "\n",
      "AGAP008219\n",
      "     Acol_gene   Agap_gene    name  \\\n",
      "83  ACOM030345  AGAP008219  CYP6Z1   \n",
      "\n",
      "                                              descrip     logFC    AveExpr  \\\n",
      "83  cytochrome P450 [Source:VB Community Annotatio...  0.938892  10.734876   \n",
      "\n",
      "           t  P.Value  adj.P.Val         B  \n",
      "83  4.338435  0.00025   0.033132  0.362268  \n",
      "\n"
     ]
    },
    {
     "data": {
      "image/png": "[encoded data removed]",
      "text/plain": [
       "<matplotlib.figure.Figure at 0x7f719dfe2f60>"
      ]
     },
     "metadata": {},
     "output_type": "display_data"
    }
   ],
   "source": [
    "# How many trt DE genes are on the DETOX CHIP?\n",
    "trt_agaps = set(trt_merged['Agap_gene'])\n",
    "\n",
    "V.venn2([detox_agaps,trt_agaps], ( \"DETOX_CHIP\",\"trt_DE\"))\n",
    "\n",
    "\n",
    "for g in detox_agaps:\n",
    "    if g in trt_agaps:\n",
    "        print(g)\n",
    "        print(trt_merged.loc[trt_merged['Agap_gene'] == g])\n",
    "        print(\"\")\n"
   ]
  },
  {
   "cell_type": "code",
   "execution_count": 29,
   "metadata": {
    "collapsed": false
   },
   "outputs": [
    {
     "name": "stdout",
     "output_type": "stream",
     "text": [
      "AGAP011824\n",
      "     Acol_gene   Agap_gene  name  \\\n",
      "91  ACOM032064  AGAP011824  TPX4   \n",
      "\n",
      "                                              descrip     logFC   AveExpr  \\\n",
      "91  thioredoxin peroxidase 4 [Source:VB Community ... -2.054485  6.542117   \n",
      "\n",
      "           t   P.Value  adj.P.Val         B  \n",
      "91 -4.090112  0.000462   0.037326 -0.222727  \n",
      "\n",
      "AGAP000088\n",
      "     Acol_gene   Agap_gene     name  \\\n",
      "90  ACOM022664  AGAP000088  CYP4H19   \n",
      "\n",
      "                                              descrip     logFC   AveExpr  \\\n",
      "90  cytochrome P450 [Source:VB Community Annotatio... -2.040968  0.814428   \n",
      "\n",
      "           t   P.Value  adj.P.Val         B  \n",
      "90 -5.018283  0.000047   0.007463  2.064255  \n",
      "\n",
      "AGAP006726\n",
      "    Acol_gene   Agap_gene     name  \\\n",
      "8  ACOM023351  AGAP006726  COEAE5G   \n",
      "\n",
      "                                             descrip    logFC   AveExpr  \\\n",
      "8  carboxylesterase [Source:VB Community Annotati...  1.07135  4.402045   \n",
      "\n",
      "          t   P.Value  adj.P.Val         B  \n",
      "8  4.754043  0.000089   0.011522  1.405511  \n",
      "\n"
     ]
    },
    {
     "data": {
      "image/png": "[encoded data removed]",
      "text/plain": [
       "<matplotlib.figure.Figure at 0x7f7149136d68>"
      ]
     },
     "metadata": {},
     "output_type": "display_data"
    }
   ],
   "source": [
    "# How many control DE genes are on the DETOX CHIP?\n",
    "control_agaps = set(control_merged['Agap_gene'])\n",
    "\n",
    "V.venn2([detox_agaps,control_agaps], ( \"DETOX_CHIP\",\"control_DE\"))\n",
    "\n",
    "for g in detox_agaps:\n",
    "    if g in control_agaps:\n",
    "        print(g)\n",
    "        print(control_merged.loc[control_merged['Agap_gene'] == g])\n",
    "        print(\"\")"
   ]
  },
  {
   "cell_type": "code",
   "execution_count": 31,
   "metadata": {
    "collapsed": false
   },
   "outputs": [
    {
     "data": {
      "text/plain": [
       "<matplotlib_venn._common.VennDiagram at 0x7f714932ef98>"
      ]
     },
     "execution_count": 31,
     "metadata": {},
     "output_type": "execute_result"
    },
    {
     "data": {
      "image/png": "[encoded data removed]",
      "text/plain": [
       "<matplotlib.figure.Figure at 0x7f7149181b70>"
      ]
     },
     "metadata": {},
     "output_type": "display_data"
    }
   ],
   "source": [
    "# How many of either control or trt DE genes are in known detox genes.\n",
    "all_sig = pd.concat([trt_sig,control_sig], axis=0)\n",
    "all_acol_DE = set(all_sig['Acol_gene'].drop_duplicates())\n",
    "#for acol in all_acol_DE:\n",
    "#    print(acol)\n",
    "all_sig_agap = all_sig.merge(info, on='Acol_gene')\n",
    "\n",
    "all_agap_DE = set(all_sig_agap['Agap_gene'])\n",
    "\n",
    "V.venn2([detox_agaps,all_agap_DE], ( \"DETOX_CHIP\",\"all_DE\"))\n",
    "\n"
   ]
  },
  {
   "cell_type": "code",
   "execution_count": 34,
   "metadata": {
    "collapsed": false
   },
   "outputs": [
    {
     "name": "stdout",
     "output_type": "stream",
     "text": [
      "Total trt Acol genes: 22\n",
      "AGAP000152 AGAP013012 AGAP007384 AGAP008368 AGAP008539 AGAP002621 AGAP011218 AGAP007588 AGAP003846 AGAP028684 AGAP006197 AGAP010851 AGAP009649 AGAP003257 AGAP009120 AGAP006968 AGAP008627 AGAP008219 AGAP005024 AGAP004333 AGAP008545\n",
      "Acol genes with at least 1 agam ortholog: 21\n",
      "Total overlap Acol genes: 61\n",
      "Acol overlap genes with at least 1 agam ortholog: 51\n",
      "overlap 61 both_df 61 51 dict 51\n",
      "{'ACOM026087', 'ACOM040015', 'ACOM040193', 'ACOM040085', 'ACOM042551', 'ACOM025590', 'ACOM042494', 'ACOM042495', 'ACOM040553', 'ACOM026131', 'ACOM034721', 'ACOM036463', 'ACOM035345', 'ACOM026807', 'ACOM029111', 'ACOM026136', 'ACOM033847', 'ACOM042671', 'ACOM034464', 'ACOM033232', 'ACOM035636', 'ACOM039630', 'ACOM031186', 'ACOM041581', 'ACOM024216', 'ACOM024051', 'ACOM036466', 'ACOM031056', 'ACOM040552'}\n",
      "Total control Acol genes: 65\n",
      "control_merge 67\n",
      "Acol genes with at least 1 agam ortholog: 61\n",
      "133\n",
      "130\n",
      "133\n",
      "131\n"
     ]
    }
   ],
   "source": [
    "import pandas as pd\n",
    "\n",
    "print(\"Total trt Acol genes:\",len(trt_df))\n",
    "trt_agap = trt_df.merge(info, on='Acol_gene').drop_duplicates()\n",
    "trt_agap.to_csv('trt_specific.csv', index=False)\n",
    "\n",
    "\n",
    "#print(trt_agap.columns.values)\n",
    "trt_dict = trt_agap.set_index('Acol_gene')['Agap_gene'].to_dict()\n",
    "print(\" \".join(list(trt_dict.values())))\n",
    "#By converting to a dictionary, I only take 1 ortholog (always the last one in the list, which is arbitrary). Basically,\n",
    "# I do not want to overrepresent a given gene because it has multiple orthologs.\n",
    "print(\"Acol genes with at least 1 agam ortholog:\",len(trt_dict))\n",
    "#print(len(trt_only))\n",
    "#print(trt_only - set(list(trt_dict.keys())))\n",
    "\n",
    "\n",
    "print(\"Total overlap Acol genes:\",len(both_df))\n",
    "overlap_agap = both_df.merge(info, on='Acol_gene').drop_duplicates()\n",
    "overlap_agap.to_csv('overlap_specific.csv', index=False)\n",
    "overlap_dict = overlap_agap.set_index('Acol_gene')['Agap_gene'].to_dict()\n",
    "print(\"Acol overlap genes with at least 1 agam ortholog:\",len(overlap_dict))\n",
    "\n",
    "print('overlap',len(overlap), 'both_df', len(both_df), len(set(list(overlap_dict.keys()))), 'dict',len(overlap_dict))\n",
    "print(overlap - set(list(overlap_dict.keys())))\n",
    "\n",
    "\n",
    "print(\"Total control Acol genes:\",len(C_df))\n",
    "control_agap = C_df.merge(info, on='Acol_gene').drop_duplicates()\n",
    "control_agap.to_csv('control_specific.csv', index=False)\n",
    "print('control_merge', len(control_agap))\n",
    "\n",
    "control_dict = control_agap.set_index('Acol_gene')['Agap_gene'].to_dict()\n",
    "print(\"Acol genes with at least 1 agam ortholog:\",len(control_dict))\n",
    "\n",
    "\n",
    "# print(trt_dict)\n",
    "# print(trt_dict.keys())\n",
    "trt_val = list(trt_dict.values())\n",
    "overlap_val = list(overlap_dict.values())\n",
    "C_val = list(control_dict.values())\n",
    "all_diff_agap = list(trt_val + overlap_val + C_val)\n",
    "\n",
    "print(len(all_diff_agap))\n",
    "print(len(set(all_diff_agap)))\n",
    "\n",
    "trt_key = list(trt_dict.keys())\n",
    "overlap_key = list(overlap_dict.keys())\n",
    "C_key = list(control_dict.keys())\n",
    "all_diff_acol_keys = list(trt_key + overlap_key + C_key)\n",
    "print(len(all_diff_acol_keys))\n",
    "print(len(set(all_diff_acol_keys)))\n",
    "#Print all agap orthologs. In cases where multiple orthologs were ID'd, I picked one arbitrarily\n",
    "#This is input for G:profiler\n",
    "#print(\" \".join(all_diff_agap))\n"
   ]
  },
  {
   "cell_type": "code",
   "execution_count": 38,
   "metadata": {
    "collapsed": false
   },
   "outputs": [
    {
     "name": "stdout",
     "output_type": "stream",
     "text": [
      "148\n",
      "131\n",
      "67\n"
     ]
    }
   ],
   "source": [
    "#Print Acol genes with no ortholog\n",
    "all_acol = list(trt_sig['Acol_gene']) + list(control_sig['Acol_gene'])\n",
    "print(len(set(all_acol)))\n",
    "acol_with_ortho = list(trt_dict.keys()) + list(control_dict.keys()) + list(overlap_dict.keys())\n",
    "print(len(set(acol_with_ortho)))\n",
    "#209 - 133\n",
    "print(len(set(all_acol) - set(acol_with_ortho)))"
   ]
  },
  {
   "cell_type": "code",
   "execution_count": 21,
   "metadata": {
    "collapsed": false
   },
   "outputs": [
    {
     "name": "stdout",
     "output_type": "stream",
     "text": [
      "16                logFC    AveExpr         t   P.Value  adj.P.Val         B  \\\n",
      "ACOM034791  4.672494  -1.393806  6.156941  0.000003   0.001337  3.711582   \n",
      "ACOM032666  2.198588   2.325472  5.434096  0.000017   0.005305  3.066228   \n",
      "ACOM042528  2.655139   0.764465  5.177008  0.000032   0.008971  2.351854   \n",
      "ACOM025627  0.704270   5.342870  4.800154  0.000080   0.015740  1.471739   \n",
      "ACOM031472  1.527545   4.301103  4.549927  0.000148   0.023701  0.916701   \n",
      "ACOM025860  0.892671   5.894946  4.557557  0.000145   0.023701  0.884367   \n",
      "ACOM029828  1.640727   2.968003  4.447449  0.000191   0.027438  0.751355   \n",
      "ACOM027256  1.110180   4.525357  4.488539  0.000172   0.026084  0.747720   \n",
      "ACOM040123  4.381001  -1.890198  4.534252  0.000154   0.024158  0.692905   \n",
      "ACOM038152  1.513904   1.299614  4.388394  0.000221   0.030905  0.686583   \n",
      "ACOM041597  1.586338   4.147106  4.380991  0.000225   0.030905  0.516970   \n",
      "ACOM024523  2.255893   2.486001  4.281555  0.000288   0.036746  0.402656   \n",
      "ACOM030345  0.938892  10.734876  4.338435  0.000250   0.033132  0.362268   \n",
      "ACOM033824  1.753868   0.277006  4.236380  0.000322   0.037914  0.317385   \n",
      "ACOM027660  0.810528   4.612240  4.141879  0.000406   0.043653 -0.085687   \n",
      "ACOM040967  0.801400   5.455183  4.092373  0.000459   0.047529 -0.225765   \n",
      "\n",
      "             Acol_gene  \n",
      "ACOM034791  ACOM034791  \n",
      "ACOM032666  ACOM032666  \n",
      "ACOM042528  ACOM042528  \n",
      "ACOM025627  ACOM025627  \n",
      "ACOM031472  ACOM031472  \n",
      "ACOM025860  ACOM025860  \n",
      "ACOM029828  ACOM029828  \n",
      "ACOM027256  ACOM027256  \n",
      "ACOM040123  ACOM040123  \n",
      "ACOM038152  ACOM038152  \n",
      "ACOM041597  ACOM041597  \n",
      "ACOM024523  ACOM024523  \n",
      "ACOM030345  ACOM030345  \n",
      "ACOM033824  ACOM033824  \n",
      "ACOM027660  ACOM027660  \n",
      "ACOM040967  ACOM040967  \n",
      "6\n",
      "34\n",
      "27\n"
     ]
    }
   ],
   "source": [
    "#treatment only up or down regulated\n",
    "import pandas as pd\n",
    "TRT_only_output = pd.read_csv(\"T_diff.tsv\", delimiter='\\t')\n",
    "TRT_only_output[\"Acol_gene\"] = TRT_only_output.index\n",
    "TRT_only = TRT_only_output.loc[TRT_only_output['Acol_gene'].isin(trt_only)]\n",
    "upreg_TRT = TRT_only.loc[TRT_only['logFC'] > 0]\n",
    "print(len(upreg_TRT),upreg_TRT)\n",
    "Dreg_TRT = TRT_only.loc[TRT_only['logFC'] < 0]\n",
    "print(len(Dreg_TRT))\n",
    "\n",
    "\n",
    "#overlap only up or down regulated\n",
    "overlap_only = TRT_only_output.loc[TRT_only_output['Acol_gene'].isin(overlap)]\n",
    "upreg_overlap = overlap_only.loc[overlap_only['logFC'] > 0]\n",
    "print(len(upreg_overlap))\n",
    "Dreg_overlap = overlap_only.loc[overlap_only['logFC'] < 0]\n",
    "print(len(Dreg_overlap))"
   ]
  },
  {
   "cell_type": "code",
   "execution_count": 20,
   "metadata": {
    "collapsed": false
   },
   "outputs": [
    {
     "name": "stdout",
     "output_type": "stream",
     "text": [
      "24\n",
      "41\n"
     ]
    }
   ],
   "source": [
    "#control only up or down regulated\n",
    "import pandas as pd\n",
    "control_only_output = pd.read_csv(\"C_diff.tsv\", delimiter='\\t')\n",
    "control_only_output[\"Acol_gene\"] = control_only_output.index\n",
    "#print(control_only[\"Acol_gene\"])\n",
    "CONTROL_only = control_only_output.loc[control_only_output['Acol_gene'].isin(control_only)]\n",
    "upreg_control = CONTROL_only.loc[CONTROL_only['logFC'] > 0]\n",
    "print(len(upreg_control))\n",
    "Dreg_control = CONTROL_only.loc[CONTROL_only['logFC'] < 0]\n",
    "print(len(Dreg_control))"
   ]
  },
  {
   "cell_type": "code",
   "execution_count": 21,
   "metadata": {
    "collapsed": false
   },
   "outputs": [
    {
     "name": "stdout",
     "output_type": "stream",
     "text": [
      "                                                0    1           2\n",
      "46                            centrosomal protein   2R  AGAP003449\n",
      "72                           niemann-pick type c-   2R  AGAP001956\n",
      "79    multiple inositol polyphosphate phosphatase   2L  AGAP006962\n",
      "219                                       amidase   2R  AGAP002377\n",
      "259                                   ce5 protein   3R  AGAP008004\n",
      "358                                      ---NA---   2L  AGAP006501\n",
      "371   AGAP005787-PA [Anopheles gambiae str. PEST]   2L  AGAP005787\n",
      "1099                                      unknown   2L  AGAP006501\n",
      "1342  multiple inositol polyphosphate phosphatase  NaN  AGAP006962\n",
      "1434                           cg14949 cg14949-pa   2L  AGAP006602\n",
      "1485                anion exchange protein slc4a2   2L  AGAP006115\n",
      "1500                                   ninjurin a   2L  AGAP006745\n",
      "1523                anion exchange protein slc4a2   2L  AGAP006115\n",
      "1540                                   ninjurin a   2L  AGAP006745\n"
     ]
    },
    {
     "data": {
      "image/png": "[encoded data removed]",
      "text/plain": [
       "<matplotlib.figure.Figure at 0x7f0a3408b5c0>"
      ]
     },
     "metadata": {},
     "output_type": "display_data"
    }
   ],
   "source": [
    "import pandas as pd\n",
    "import matplotlib_venn as V\n",
    "%matplotlib inline\n",
    "\n",
    "#Toé, Kobié H., Sagnon N’Falé, Roch K. Dabiré, Hilary Ranson, and Christopher M. Jones. 2015. “The Recent Escalation in Strength of Pyrethroid Resistance in Anopheles Coluzzi in West Africa Is Linked to Increased Expression of Multiple Gene Families.” BMC Genomics 16 (March). bmcgenomics.biomedcentral.com: 146.\n",
    "toe = set(pd.read_table(\"toe_candidates_193.tsv\",header=None)[0].str.split('-').str.get(0).tolist())\n",
    "all_toe = set(pd.read_table(\"toe_candidates.tsv\",header=None)[0].str.split('-').str.get(0).tolist())\n",
    "\n",
    "#V.venn2([toe,all_agaps], ( \"toe\",\"mine\"))\n",
    "V.venn2([all_toe,all_agaps], ( \"toe\",\"mine\"))\n",
    "\n",
    "toe_intersect = list(all_toe.intersection(all_agaps))\n",
    "\n",
    "toe_names = pd.read_table(\"toe_candidates_names.tsv\",header=None).drop_duplicates()\n",
    "#toe_names = pd.read_table(\"toe_candidates_names.tsv\",header=None)\n",
    "toe_names[2] = toe_names[2].str.split('-').str.get(0)\n",
    "#print(toe_names.loc[toe_names[2].isin(toe_intersect)][2].drop_duplicates())\n",
    "print(toe_names.loc[toe_names[2].isin(toe_intersect)])"
   ]
  },
  {
   "cell_type": "code",
   "execution_count": 22,
   "metadata": {
    "collapsed": false
   },
   "outputs": [
    {
     "name": "stdout",
     "output_type": "stream",
     "text": [
      "['AGAP007588']\n"
     ]
    },
    {
     "data": {
      "image/png": "[encoded data removed]",
      "text/plain": [
       "<matplotlib.figure.Figure at 0x7f0a40d63400>"
      ]
     },
     "metadata": {},
     "output_type": "display_data"
    }
   ],
   "source": [
    "\n",
    "import pandas as pd\n",
    "import matplotlib_venn as V\n",
    "%matplotlib inline\n",
    "\n",
    "#Fossog Tene, Billy, Rodolphe Poupardin, Carlo Costantini, Parfait Awono-Ambene, Charles S. Wondji, Hilary Ranson, and Christophe Antonio-Nkondjio. 2013. “Resistance to DDT in an Urban Setting: Common Mechanisms Implicated in Both M and S Forms of Anopheles Gambiae in the City of Yaoundé Cameroon.” PloS One 8 (4): e61408.tene = set(pd.read_table(\"tene.tsv\",header=None)[0].str.split('-').str.get(0).tolist())\n",
    "all_tene = set(pd.read_table(\"tene.tsv\",header=None)[0].str.split('-').str.get(0).tolist())\n",
    "\n",
    "#print(all_tene)\n",
    "V.venn2([all_tene,all_agaps], ( \"tene\",\"mine\"))\n",
    "\n",
    "tene_intersect = list(all_tene.intersection(all_agaps))\n",
    "print(tene_intersect)\n",
    "# toe_names = pd.read_table(\"toe_candidates_names.tsv\",header=None).drop_duplicates()\n",
    "# #toe_names = pd.read_table(\"toe_candidates_names.tsv\",header=None)\n",
    "# toe_names[2] = toe_names[2].str.split('-').str.get(0)\n",
    "# #print(toe_names.loc[toe_names[2].isin(toe_intersect)][2].drop_duplicates())\n",
    "# print(toe_names.loc[toe_names[2].isin(toe_intersect)])"
   ]
  },
  {
   "cell_type": "code",
   "execution_count": 31,
   "metadata": {
    "collapsed": false
   },
   "outputs": [
    {
     "data": {
      "text/plain": [
       "            biomart               version\n",
       "1 vb_gene_mart_1610      VectorBase Genes\n",
       "2  vb_snp_mart_1610  VectorBase Variation\n",
       "3        expression VectorBase Expression\n"
      ]
     },
     "metadata": {},
     "output_type": "display_data"
    }
   ],
   "source": [
    "%%R\n",
    "source(\"http://bioconductor.org/biocLite.R\")\n",
    "\n",
    "biocLite(\"biomaRt\")\n",
    "library(biomaRt)\n",
    "listMarts(host = \"biomart.vectorbase.org\")\n",
    "\n",
    "vectorbase_gene <- useMart(\"vb_gene_mart_1610\", host = \"biomart.vectorbase.org\")\n",
    "listDatasets(vectorbase_gene)\n",
    "\n",
    "#listmart(\"vb_gene_mart_1610\")\n",
    "%%R\n",
    "acolGenes<-useMart(biomart = \"vb_gene_mart_1610\", dataset = \"acoluzzii_eg_gene\", host = \"biomart.vectorbase.org\")\n",
    "\n",
    "#acolGenes<-useDataset(\"acoluzzii_eg_gene\", vectorbase_gene)\n",
    "#acolGenes\n",
    "#listFilters(acolGenes)\n",
    "listAttributes(acolGenes)\n",
    "#listDatasets(vectorbase_gene)\n",
    "\n",
    "%%R -i trt\n",
    "# get biomart annotation\n",
    "attributes <- c(\"name\", \"chromosome_name\",\n",
    "                \"start_position\",\"end_position\", \"agambiae_eg_gene\", \n",
    "                \"agambiae_eg_chromosome\",\"agambiae_eg_chrom_start\",\"agambiae_eg_chrom_end\",\n",
    "                \"go_accession\", \"description\")\n",
    "#attributes\n",
    "#attributes <- c(\"affy_mogene_1_0_st_v1\", \"chromosome_name\",\n",
    "#                \"start_position\",\"end_position\", \"ensembl_gene_id\", \n",
    " #               \"external_gene_id\", \"description\")\n",
    "genes <- getBM(attributes=attributes, filters=\"name\", \n",
    "               values=trt, mart=acolGenes, uniqueRows=T)"
   ]
  },
  {
   "cell_type": "code",
   "execution_count": null,
   "metadata": {
    "collapsed": true
   },
   "outputs": [],
   "source": []
  },
  {
   "cell_type": "code",
   "execution_count": 19,
   "metadata": {
    "collapsed": false
   },
   "outputs": [
    {
     "ename": "SyntaxError",
     "evalue": "invalid syntax (<ipython-input-19-db6291bdeec9>, line 1)",
     "output_type": "error",
     "traceback": [
      "\u001b[1;36m  File \u001b[1;32m\"<ipython-input-19-db6291bdeec9>\"\u001b[1;36m, line \u001b[1;32m1\u001b[0m\n\u001b[1;33m    Develop diagnostic SNP\u001b[0m\n\u001b[1;37m                     ^\u001b[0m\n\u001b[1;31mSyntaxError\u001b[0m\u001b[1;31m:\u001b[0m invalid syntax\n"
     ]
    }
   ],
   "source": [
    "Develop diagnostic SNP\n",
    "radio label permethrin"
   ]
  },
  {
   "cell_type": "code",
   "execution_count": 21,
   "metadata": {
    "collapsed": true
   },
   "outputs": [],
   "source": [
    "inversions=[\"2Rc\",\"2Rb\",\"2La\"]\n",
    "## plot inversions\n",
    "inv={}\n",
    "for line in open(\"/mnt/lanzarobas/home/bradmain/gambiae/gene_flow/pest_M/An_gambiae_karyotype.gtf\"):\n",
    "    i=line.strip().split()\n",
    "    chr=i[0]\n",
    "    l=int(i[3])\n",
    "    r=int(i[4])\n",
    "    name=i[9].strip(\";\").strip('\"')\n",
    "    if name not in inversions:\n",
    "        continue\n",
    "    num=int(i[-1].strip(\";\").strip('\"'))\n",
    "    if chr not in inv:\n",
    "        inv[chr]={}\n",
    "    if name not in inv[chr]:\n",
    "        inv[chr][name]={}\n",
    "    inv[chr][name][num]=[l/1.0e6,r/1.0e6]\n",
    "outer=[inv[\"2R\"][\"2Rb\"][1][0],inv[\"2R\"][\"2Rb\"][2][1]]\n",
    "inner=[inv[\"2R\"][\"2Rb\"][1][1],inv[\"2R\"][\"2Rb\"][2][0]]\n",
    "Couter=[inv[\"2R\"][\"2Rc\"][1][0],inv[\"2R\"][\"2Rc\"][2][1]]\n",
    "Cinner=[inv[\"2R\"][\"2Rc\"][1][1],inv[\"2R\"][\"2Rc\"][2][0]]\n",
    "outer2La=[inv[\"2L\"][\"2La\"][1][0],inv[\"2L\"][\"2La\"][2][1]]\n",
    "inner2La=[inv[\"2L\"][\"2La\"][1][1],inv[\"2L\"][\"2La\"][2][0]]"
   ]
  },
  {
   "cell_type": "code",
   "execution_count": 24,
   "metadata": {
    "collapsed": false
   },
   "outputs": [
    {
     "data": {
      "image/png": "[encoded data removed]",
      "text/plain": [
       "<matplotlib.figure.Figure at 0x7f2e3319a9b0>"
      ]
     },
     "metadata": {},
     "output_type": "display_data"
    }
   ],
   "source": [
    "#!/usr/bin/python\n",
    "%matplotlib inline\n",
    "import pandas as pd\n",
    "import matplotlib.pyplot as P\n",
    "import numpy\n",
    "import random\n",
    "\n",
    "\n",
    "fig, axes = P.subplots(ncols=2,nrows=3)\n",
    "fig.subplots_adjust(left=None, bottom=None, right=None, top=None,wspace=.01, hspace=None)\n",
    "((N,chrX), (chr2R, chr2L), (chr3R, chr3L)) = axes\n",
    "N.axis('off')\n",
    "\n",
    "#chrX = P.subplot2grid((3,3), (2,1), colspan=1)\n",
    "# chr2L.subplot2grid((3,3), (2,0), colspan=1)\n",
    "# chr2R.subplot2grid((3,3), (2,1), colspan=1)\n",
    "chr2L.set_xlim([0, 49.364325])\n",
    "chr2R.set_xlim([0, 61.545105])\n",
    "# chr3L = P.subplot2grid((3,3), (2,0), colspan=1)\n",
    "# chr3R = P.subplot2grid((3,3), (2,1), colspan=1)\n",
    "chr3L.set_xlim([0, 41.963435])\n",
    "chr3R.set_xlim([0, 53.200684])\n",
    "chrX.set_xlim([0, 24.393108])\n",
    "\n",
    "chrX.set_ylim([0.0495, 0.051])\n",
    "chr2L.set_ylim([0.0495, 0.051])\n",
    "chr2R.set_ylim([0.0495, 0.051])\n",
    "chr3L.set_ylim([0.0495, 0.051])\n",
    "chr3R.set_ylim([0.0495, 0.051])\n",
    "\n",
    "INV_HEIGHT = 0.05\n",
    "# chr2L.plot(outer2La,[INV_HEIGHT,INV_HEIGHT],'k-',linewidth=5,alpha=0.5)\n",
    "# chr2L.plot(inner2La,[INV_HEIGHT,INV_HEIGHT],'y-',linewidth=5)\n",
    "chr2R.plot(outer,[INV_HEIGHT,INV_HEIGHT],'k-',linewidth=15,alpha=0.5)\n",
    "chr2R.plot(inner,[INV_HEIGHT,INV_HEIGHT],'y-',linewidth=15,label='2Rb inversion')\n",
    "#chrX.plot(inner,[INV_HEIGHT+1000,INV_HEIGHT+1000],'y-',linewidth=15,label='2Rb inversion') #just plotting out of range on X for legend purposes\n",
    "chr2R.text(numpy.mean(inner)-.5,INV_HEIGHT-0.01,'b',fontweight='bold',fontsize=14)\n",
    "chr2R.plot(Couter,[INV_HEIGHT,INV_HEIGHT],'k-',linewidth=15,alpha=0.5)\n",
    "chr2R.plot(Cinner,[INV_HEIGHT,INV_HEIGHT],'g-',linewidth=15,label='2Rc inversion')\n",
    "#chrX.plot(Cinner,[INV_HEIGHT+1000,INV_HEIGHT+1000],'g-',linewidth=15,label='2Rc inversion') #just plotting out of range on X for legend purposes\n",
    "chr2R.text(numpy.mean(Cinner)-.5,INV_HEIGHT-0.01,'c',fontweight='bold',fontsize=14)\n",
    "chr2L.plot(outer2La,[INV_HEIGHT,INV_HEIGHT],'k-',linewidth=15,alpha=0.5)\n",
    "chr2L.plot(inner2La,[INV_HEIGHT,INV_HEIGHT],'y-',linewidth=15)\n",
    "chr3R.plot([12.5,38],[INV_HEIGHT,INV_HEIGHT],'r-',linewidth=15,alpha=0.5,label='3Ra inversion')\n",
    "# chrX.plot([12.5+1000,38+1000],[INV_HEIGHT,INV_HEIGHT],'r-',linewidth=15,alpha=0.5,label='3Ra inversion') #just plotting out of range on X for legend purposes\n",
    "#chr3R.text(numpy.mean([12.5,38]),INV_HEIGHT-0.01,'a',fontsize=14,fontweight='bold')\n",
    "#chrX.plot([14.5,24.393108],[0.05, 0.05],'g-',linewidth=50,label='2Rc inversion') #just plotting out of range on X for legend purposes\n",
    "\n",
    "#islands of speciation\n",
    "chrX.fill([14.5,14.5,24.393108,24.393108], [.0495,.051,.051,.0495], 'b', alpha=0.2, edgecolor='r')\n",
    "chr2L.fill([0,0,3.5,3.5], [.0495,.051,.051,.0495], 'b', alpha=0.2, edgecolor='r')\n",
    "chr3L.fill([0,0,1.6,1.6], [.0495,.051,.051,.0495], 'b', alpha=0.2, edgecolor='r')\n",
    "\n",
    "# chromosome names\n",
    "for C in ['X', '2R', '2L', '3R', '3L']:\n",
    "\n",
    "    ax = globals()['chr'+C]\n",
    "    if( C[-1] == 'L' or C[-1] == \"X\"):\n",
    "        x = 0.975\n",
    "        ha = 'right'\n",
    "    else:\n",
    "        x = 0.025\n",
    "        ha = 'left'\n",
    "        #ax.text(x, 0.95, r'\\textbf{'+C+'}', size='xx-large', ha=ha, va='top', transform=ax.transAxes)\n",
    "    ax.text(x, 0.95, C, size='xx-large', ha=ha, va='top', transform=ax.transAxes)\n",
    "\n",
    "    \n",
    "gtf = pd.read_csv(\"Anopheles-gambiae-PEST_BASEFEATURES_AgamP4.4.genes\", delimiter='\\t', header=None)\n",
    "gtf[9] = gtf[8].str.extract('([A-Z]\\w{0,})').astype(str)   #Gene ID\n",
    "gtf[10] = (gtf[3]+gtf[4])/2 # middle of gene\n",
    "\n",
    "#trt_locations = gtf.loc[gtf[9].isin(agaps)][[9,0,10,6]]\n",
    "DE_locations = gtf.loc[gtf[9].isin(all_diff_agap)][[9,0,10,6]]\n",
    "\n",
    "# print(trt_locations)\n",
    "chroms = ['2L','2R','3R','3L','X']\n",
    "for CHROM in chroms:\n",
    "    #short = trt_locations.loc[trt_locations[0]==CHROM][10].tolist()\n",
    "    short = DE_locations.loc[DE_locations[0]==CHROM][10].tolist()\n",
    "    for pos in short:\n",
    "        #y_pos = random.randrange(.049,.051,.0005)\n",
    "        #y_pos = random.randrange(490,510,5) / 10000\n",
    "        y_pos = random.randrange(500,505,1) / 10000\n",
    "        p = pos/1000000\n",
    "        if CHROM=='2L':\n",
    "            chr2L.plot(p,y_pos,'k*',alpha=.7)\n",
    "        if CHROM=='2R':\n",
    "            chr2R.plot(p,y_pos,'k*',alpha=.7)\n",
    "        if CHROM=='3L':\n",
    "            chr3L.plot(p,y_pos,'k*',alpha=.7)\n",
    "        if CHROM=='3R':\n",
    "            chr3R.plot(p,y_pos,'k*',alpha=.7)\n",
    "        if CHROM=='X':\n",
    "            chrX.plot(p,y_pos,'k*',alpha=.7)\n",
    "\n",
    "fig.set_size_inches(14.4, 9.6)\n",
    "\n",
    "P.show()\n"
   ]
  },
  {
   "cell_type": "code",
   "execution_count": null,
   "metadata": {
    "collapsed": true
   },
   "outputs": [],
   "source": []
  },
  {
   "cell_type": "code",
   "execution_count": null,
   "metadata": {
    "collapsed": true
   },
   "outputs": [],
   "source": []
  },
  {
   "cell_type": "code",
   "execution_count": 29,
   "metadata": {
    "collapsed": false
   },
   "outputs": [
    {
     "data": {
      "text/plain": [
       "   trt_M\n",
       "-1     0\n",
       "0   9456\n",
       "1      0\n"
      ]
     },
     "metadata": {},
     "output_type": "display_data"
    }
   ],
   "source": [
    "%%R\n",
    "contr.matrix <- makeContrasts(\n",
    "#  gt_control = cyp1.C - Mopti.C,\n",
    "#  gt_trt = cyp1.T - Mopti.T,\n",
    "  trt_M = cyp1.T - cyp1.C,\n",
    "#  trt_C = Mopti.T - Mopti.C,\n",
    "#  gt_by_trt = (cyp1.T - Mopti.T) - (cyp1.C - Mopti.C),\n",
    "    # GT = cyp1 - Mopti,\n",
    "    #TRT = trtC-trtT,\n",
    " levels = colnames(design))\n",
    "contr.matrix\n",
    "vfit <- lmFit(v, design)\n",
    "\n",
    "vfit <- contrasts.fit(vfit, contrasts=contr.matrix)\n",
    "efit <- eBayes(vfit)\n",
    "print(summary(decideTests(efit)))\n",
    "\n",
    "T_effect <- topTable(efit, n=Inf)\n",
    "\n"
   ]
  },
  {
   "cell_type": "code",
   "execution_count": null,
   "metadata": {
    "collapsed": true
   },
   "outputs": [],
   "source": []
  },
  {
   "cell_type": "code",
   "execution_count": null,
   "metadata": {
    "collapsed": true
   },
   "outputs": [],
   "source": [
    "%%R\n",
    "contr.matrix <- makeContrasts(\n",
    "#  gt_control = cyp1.C - Mopti.C,\n",
    "  gt_trt = cyp1.T - Mopti.T,\n",
    "#  trt_M = cyp1.T - cyp1.C,\n",
    "#  trt_C = Mopti.T - Mopti.C,\n",
    "#  gt_by_trt = (cyp1.T - Mopti.T) - (cyp1.C - Mopti.C),\n",
    "    # GT = cyp1 - Mopti,\n",
    "    #TRT = trtC-trtT,\n",
    " levels = colnames(design))\n",
    "contr.matrix\n",
    "vfit <- contrasts.fit(vfit, contrasts=contr.matrix)\n",
    "efit <- eBayes(vfit)\n",
    "lvtt <- topTable(efit)\n",
    "head(lvtt)"
   ]
  },
  {
   "cell_type": "code",
   "execution_count": 28,
   "metadata": {
    "collapsed": false
   },
   "outputs": [
    {
     "data": {
      "text/plain": [
       "           gt_control    gt_trt       trt_M      trt_C   gt_by_trt    AveExpr\n",
       "ACOM025711   4.134414  5.463765 -0.44952576 -1.7788769  1.32935116  2.6392136\n",
       "ACOM024333   4.167499  4.391412  0.06009423 -0.1638187  0.22391298 -1.8125472\n",
       "ACOM036733  -4.811277 -4.860292 -1.22692788 -1.1779131 -0.04901474  1.7188216\n",
       "ACOM024216  -3.444530 -2.218703  0.21869462 -1.0071325  1.22582708  7.6304611\n",
       "ACOM031738  -2.346689 -1.803847  0.19200151 -0.3508400  0.54284146  1.5968077\n",
       "ACOM042495   1.267916  1.143403  0.10267928  0.2271923 -0.12451302  5.2712836\n",
       "ACOM024520   1.128254  1.078359  0.08568198  0.1355777 -0.04989570  6.4451291\n",
       "ACOM042278  -2.485423 -2.659888 -0.33082441 -0.1563589 -0.17446552  2.3601959\n",
       "ACOM042494   1.334442  1.291146  0.08372221  0.1270188 -0.04329655  3.3005993\n",
       "ACOM039599   4.112554  3.909542 -0.37884319 -0.1758313 -0.20301194  0.1855518\n",
       "                  F      P.Value    adj.P.Val\n",
       "ACOM025711 57.67925 7.622177e-11 7.207530e-07\n",
       "ACOM024333 43.78681 1.165540e-09 5.510675e-06\n",
       "ACOM036733 41.07835 2.158814e-09 6.804581e-06\n",
       "ACOM024216 36.49506 6.648275e-09 1.571652e-05\n",
       "ACOM031738 32.17055 2.148045e-08 3.529763e-05\n",
       "ACOM042495 31.71797 2.446124e-08 3.529763e-05\n",
       "ACOM024520 31.49010 2.612980e-08 3.529763e-05\n",
       "ACOM042278 30.71321 3.281663e-08 3.878926e-05\n",
       "ACOM042494 30.26157 3.754363e-08 3.944584e-05\n",
       "ACOM039599 29.87915 4.212722e-08 3.983550e-05\n"
      ]
     },
     "metadata": {},
     "output_type": "display_data"
    }
   ],
   "source": [
    "%%R\n",
    "lvtt <- topTable(efit)\n",
    "print(lvtt)"
   ]
  },
  {
   "cell_type": "code",
   "execution_count": null,
   "metadata": {
    "collapsed": true
   },
   "outputs": [],
   "source": []
  },
  {
   "cell_type": "code",
   "execution_count": null,
   "metadata": {
    "collapsed": true
   },
   "outputs": [],
   "source": []
  },
  {
   "cell_type": "code",
   "execution_count": 18,
   "metadata": {
    "collapsed": false
   },
   "outputs": [
    {
     "data": {
      "text/plain": [
       "     GT\n",
       "-1   12\n",
       "0  9432\n",
       "1    12\n"
      ]
     },
     "metadata": {},
     "output_type": "display_data"
    }
   ],
   "source": [
    "# %%R -o dt\n",
    "# tfit <- treat(vfit, lfc=1)\n",
    "# dt <- decideTests(tfit)\n",
    "# summary(dt)\n",
    "#print(dt)"
   ]
  },
  {
   "cell_type": "code",
   "execution_count": 36,
   "metadata": {
    "collapsed": false
   },
   "outputs": [
    {
     "name": "stdout",
     "output_type": "stream",
     "text": [
      "\n",
      "Error in topTags(tfit) : Need to run exactTest or glmLRT first\n"
     ]
    },
    {
     "name": "stderr",
     "output_type": "stream",
     "text": [
      "/usr/local/lib/python3.5/dist-packages/rpy2/rinterface/__init__.py:185: RRuntimeWarning: Error in topTags(tfit) : Need to run exactTest or glmLRT first\n",
      "\n",
      "  warnings.warn(x, RRuntimeWarning)\n"
     ]
    }
   ],
   "source": [
    "%%R -o gt_diff\n",
    "\n",
    "gt_diff <- topTags(tfit)\n",
    "# topTreat(tfit, coef=1, n=Inf)\n",
    "# #write.csv(gt_diff, file = 'GTresults.txt')\n",
    "# write.fit(tfit, dt, file=\"GTresults.txt\")\n",
    "head(gt_diff)"
   ]
  },
  {
   "cell_type": "code",
   "execution_count": 26,
   "metadata": {
    "collapsed": false
   },
   "outputs": [
    {
     "name": "stdout",
     "output_type": "stream",
     "text": [
      "9456\n"
     ]
    }
   ],
   "source": [
    "print(len(gt_diff))"
   ]
  },
  {
   "cell_type": "code",
   "execution_count": null,
   "metadata": {
    "collapsed": true
   },
   "outputs": [],
   "source": []
  },
  {
   "cell_type": "code",
   "execution_count": 28,
   "metadata": {
    "collapsed": false
   },
   "outputs": [
    {
     "name": "stdout",
     "output_type": "stream",
     "text": [
      "\n",
      "Error in withVisible({ : could not find function \"plotMD\"\n"
     ]
    }
   ],
   "source": [
    "%%R\n",
    "#library(\"limma\")\n",
    "plotMD(tfit, column=1, status=dt[,1], main=colnames(tfit)[1],xlim=c(-8,13))"
   ]
  },
  {
   "cell_type": "code",
   "execution_count": null,
   "metadata": {
    "collapsed": true
   },
   "outputs": [],
   "source": [
    "# for genotyping kdr\n",
    "for fq in /home/bradmain/gambiae/malphigs/raw/*-*fastq.gz\n",
    "do\n",
    "echo \"bwa mem -t8/home/bradmain/gambiae/ASE/bin/STAR/source/STAR --genomeDir /home/bradmain/gambiae/malphigs/raw/STAR/Acolgenome --sjdbGTFfile /home/bradmain/gambiae/malphigs/raw/STAR/Acolgenome/Anopheles-coluzzii-Mali-NIH_BASEFEATURES_AcolM1.3.gtf --readFilesIn $fq --readFilesCommand zcat --outSAMtype BAM Unsorted SortedByCoordinate --outFilterMultimapNmax 1 --outSAMunmapped Within --quantMode TranscriptomeSAM GeneCounts --twopassMode Basic --outFileNamePrefix $(basename $fq _L007_R1_001.fastq.gz) --runThreadN 20\"\n",
    "done\n",
    "#parallel\n"
   ]
  }
 ],
 "metadata": {
  "kernelspec": {
   "display_name": "Python 3",
   "language": "python",
   "name": "python3"
  },
  "language_info": {
   "codemirror_mode": {
    "name": "ipython",
    "version": 3
   },
   "file_extension": ".py",
   "mimetype": "text/x-python",
   "name": "python",
   "nbconvert_exporter": "python",
   "pygments_lexer": "ipython3",
   "version": "3.5.2"
  }
 },
 "nbformat": 4,
 "nbformat_minor": 0
}
