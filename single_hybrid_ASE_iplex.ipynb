{
 "cells": [
  {
   "cell_type": "markdown",
   "metadata": {
    "collapsed": true
   },
   "source": [
    "##round 2"
   ]
  },
  {
   "cell_type": "code",
   "execution_count": 1,
   "metadata": {
    "collapsed": false
   },
   "outputs": [
    {
     "name": "stdout",
     "output_type": "stream",
     "text": [
      "   WELL SAMPLE_x OLIGO_ID_x     AREA_x OLIGO_ID_y     AREA_y       ASE      T\n",
      "10  C12     CTL2          G   0.346516          A   0.433489  0.799365   True\n",
      "24  D01    HC1_1          G   6.399528          A   9.467199  0.675968  False\n",
      "15  D02    HC1_2          G   5.675909          A  10.444198  0.543451  False\n",
      "46  D03    HC2_3          G   6.965277          A   8.109815  0.858870  False\n",
      "35  D05    HC4_2          G   5.448055          A   8.787638  0.619968  False\n",
      "45  D06    HC4_3          G   6.580420          A  10.243054  0.642428  False\n",
      "23  D10    HC6_1          G   7.576630          A   9.872396  0.767456  False\n",
      "0   D09    HC6_3          G   6.931531          A   9.526989  0.727568  False\n",
      "3   D11    HC7_2          G   4.742897          A   9.511461  0.498651  False\n",
      "6   D12    HC7_3          G   8.189017          A  13.120369  0.624145  False\n",
      "18  A04   HT10_1          G   3.956556          A   7.229927  0.547247   True\n",
      "30  A05   HT10_2          G   2.593630          A   8.057875  0.321875   True\n",
      "39  A06   HT10_3          G   4.856746          A   7.874863  0.616740   True\n",
      "7   A07   HT11_1          G  12.161251          A  14.249915  0.853426   True\n",
      "21  A08   HT11_2          G   7.438967          A   8.697592  0.855290   True\n",
      "31  A09   HT11_3          G   7.094964          A   7.140678  0.993598   True\n",
      "14  A10   HT12_1          G   8.511189          A  11.217368  0.758751   True\n",
      "28  A11   HT12_2          G   6.188135          A   6.643966  0.931392   True\n",
      "26  A12   HT12_3          G   8.895556          A  10.910218  0.815342   True\n",
      "42  C08   HT13_1          G   6.981491          A   8.680578  0.804266   True\n",
      "34  C09   HT13_2          G   5.130976          A  10.791239  0.475476   True\n",
      "16  B01   HT14_1          G   8.746840          A  13.592270  0.643516   True\n",
      "2   B02   HT14_2          G   7.361749          A  13.186003  0.558300   True\n",
      "25  B03   HT14_3          G   6.011277          A  10.056570  0.597746   True\n",
      "29  B04   HT15_1          G   6.250991          A  11.743650  0.532287   True\n",
      "40  B05   HT15_2          G   7.973523          A  12.988131  0.613908   True\n",
      "44  B06   HT15_3          G   7.707337          A  13.578049  0.567632   True\n",
      "38  B07   HT16_1          G   8.064842          A  10.409040  0.774792   True\n",
      "17  B08   HT16_2          G   8.499358          A  13.139394  0.646861   True\n",
      "32  B09   HT16_3          G   6.863070          A   9.133819  0.751391   True\n",
      "19  B10    HT3_1          G  10.026700          A  17.257985  0.580989   True\n",
      "9   B11    HT3_2          G   3.390486          A  11.118121  0.304951   True\n",
      "36  A01    HT4_1          G   9.050999          A  10.996489  0.823081   True\n",
      "11  A03    HT4_3          G   8.496583          A   9.357150  0.908031   True\n",
      "8   B12    HT5_1          G   6.868165          A   9.014274  0.761921   True\n",
      "33  C01    HT5_2          G  10.448622          A  13.004453  0.803465   True\n",
      "27  C02    HT6_1          G   7.021021          A   7.836430  0.895946   True\n",
      "4   C03    HT6_2          G   9.186671          A  11.618199  0.790714   True\n",
      "13  C05    HT7_1          G   8.502996          A  12.908620  0.658707   True\n",
      "1   C04    HT7_1          G   3.338735          A   7.643394  0.436813   True\n",
      "37  C06    HT8_1          G   8.262842          A   7.933993  1.041448   True\n",
      "22  C07    HT8_2          G   5.615862          A  13.176688  0.426197   True\n"
     ]
    },
    {
     "data": {
      "text/plain": [
       "<matplotlib.axes._subplots.AxesSubplot at 0x7f50aee6ca90>"
      ]
     },
     "execution_count": 1,
     "metadata": {},
     "output_type": "execute_result"
    },
    {
     "data": {
      "image/png": "[encoded data removed]",
      "text/plain": [
       "<matplotlib.figure.Figure at 0x7f50aee47f60>"
      ]
     },
     "metadata": {},
     "output_type": "display_data"
    }
   ],
   "source": [
    "import matplotlib.pyplot as P\n",
    "%matplotlib inline\n",
    "import numpy as np\n",
    "import pandas as pd\n",
    "\n",
    "\n",
    "RNA = ['A','B','C','D'] #These are wells that contain cDNA\n",
    "D = pd.read_csv(\"round2/iPLEX_HYBRID_MAPHIG_6_24_16.csv\")\n",
    "#focus on UTR SNP\n",
    "cyp9k1 = D.loc[D['Assay']=='CYP9K1-3u']\n",
    "#grab only cDNA\n",
    "#cyp9k1 = cyp9k1.loc[cyp9k1['WELL'].str[0].isin(RNA)]\n",
    "cyp9k1 = cyp9k1.loc[cyp9k1['WELL'].str[0].isin(['A','B','C','D'])]\n",
    "\n",
    "cyp2 = cyp9k1.loc[cyp9k1['OLIGO_ID']=='A']\n",
    "cyp1 = cyp9k1.loc[cyp9k1['OLIGO_ID']=='G']\n",
    "\n",
    "ASE = pd.merge(cyp1,cyp2,on='WELL').sort_values(by='SAMPLE_x')\n",
    "ASE.drop(ASE.columns[[2,3,6,7,8,9,12]], axis=1, inplace=True)\n",
    "\n",
    "#.sort_values(by='WELL')\n",
    "ASE['ASE'] = ASE['AREA_x']/ASE['AREA_y']\n",
    "#print(ASE[['SAMPLE_x','ASE']])\n",
    "\n",
    "ASE['T'] = ASE['SAMPLE_x'].str[1]==\"T\"\n",
    "\n",
    "#Drop inf and NaN samples\n",
    "ASE = ASE.drop([47,5,12,43,20,41])\n",
    "print(ASE)\n",
    "ASE.boxplot(column='ASE',by='T')\n",
    "\n",
    "#control = ASE.loc[ASE['SAMPLE_x'].str[1]==\"C\"]\n",
    "#treat = ASE.loc[ASE['SAMPLE_x'].str[1]==\"T\"]\n",
    "\n",
    "#control.boxplot(column='ASE')\n",
    "#print(treat)\n",
    "\n"
   ]
  },
  {
   "cell_type": "code",
   "execution_count": 8,
   "metadata": {
    "collapsed": false,
    "scrolled": true
   },
   "outputs": [
    {
     "name": "stderr",
     "output_type": "stream",
     "text": [
      "/usr/local/lib/python3.5/dist-packages/ipykernel/__main__.py:67: SettingWithCopyWarning: \n",
      "A value is trying to be set on a copy of a slice from a DataFrame.\n",
      "Try using .loc[row_indexer,col_indexer] = value instead\n",
      "\n",
      "See the caveats in the documentation: http://pandas.pydata.org/pandas-docs/stable/indexing.html#indexing-view-versus-copy\n"
     ]
    },
    {
     "data": {
      "text/plain": [
       "<matplotlib.text.Text at 0x7f50aeccbd30>"
      ]
     },
     "execution_count": 8,
     "metadata": {},
     "output_type": "execute_result"
    },
    {
     "data": {
      "image/png": "[encoded data removed]",
      "text/plain": [
       "<matplotlib.figure.Figure at 0x7f50aece3c88>"
      ]
     },
     "metadata": {},
     "output_type": "display_data"
    },
    {
     "data": {
      "image/png": "[encoded data removed]",
      "text/plain": [
       "<matplotlib.figure.Figure at 0x7f50aeb9d898>"
      ]
     },
     "metadata": {},
     "output_type": "display_data"
    },
    {
     "data": {
      "image/png": "[encoded data removed]",
      "text/plain": [
       "<matplotlib.figure.Figure at 0x7f50d3395208>"
      ]
     },
     "metadata": {},
     "output_type": "display_data"
    }
   ],
   "source": [
    "import matplotlib.pyplot as P\n",
    "%matplotlib inline\n",
    "import numpy as np\n",
    "import pandas as pd\n",
    "import math\n",
    "#CYP9K1 3'UTR SNP G=cyp1 ; A=cyp2\n",
    "\n",
    "##Round 1\n",
    "D = pd.read_table(\"pig_iplex_june9.txt\")\n",
    "#focus on UTR SNP\n",
    "r1 = D.loc[D['Assay']=='CYP9K1-3u']\n",
    "\n",
    "r1cyp2 = r1.loc[r1['OLIGO_ID']=='A']\n",
    "r1cyp1 = r1.loc[r1['OLIGO_ID']=='G']\n",
    "\n",
    "r1df = pd.merge(r1cyp1,r1cyp2,on='WELL').sort_values(by='SAMPLE_x')\n",
    "#remove unnecessary columns\n",
    "r1df.drop(r1df.columns[[2,3,6,7,8,9,12]], axis=1, inplace=True)\n",
    "#grab only cDNA\n",
    "r1df['cDNA'] = r1df['WELL'].str[0].isin(['A','B'])#These are wells that contain cDNA\n",
    "r1df = r1df.loc[r1df['AREA_y']>0.00001]\n",
    "r1df['T'] = r1df['SAMPLE_x'].str[10]==\"T\"\n",
    "#print('r1',len(r1df),r1df)\n",
    "\n",
    "##Round 2\n",
    "D2 = pd.read_csv(\"round2/iPLEX_HYBRID_MAPHIG_6_24_16.csv\")\n",
    "#focus on UTR SNP\n",
    "r2 = D2.loc[D2['Assay']=='CYP9K1-3u']\n",
    "\n",
    "r2cyp2 = r2.loc[r2['OLIGO_ID']=='A']\n",
    "r2cyp1 = r2.loc[r2['OLIGO_ID']=='G']\n",
    "\n",
    "r2df = pd.merge(r2cyp1,r2cyp2,on='WELL').sort_values(by='SAMPLE_x')\n",
    "r2df.drop(r2df.columns[[2,3,6,7,8,9,12]], axis=1, inplace=True)\n",
    "\n",
    "#highlight cDNA\n",
    "r2df['cDNA'] = r2df['WELL'].str[0].isin(['A','B','C','D'])#These are wells that contain cDNA\n",
    "#drop samples that didn't amplify well\n",
    "r2df = r2df.loc[r2df['AREA_y']>0.00001]\n",
    "r2df['T'] = r2df['SAMPLE_x'].str[1]==\"T\"\n",
    "\n",
    "#concatenate 1st and 2nd iPLEX run data\n",
    "ALL = pd.concat([r1df,r2df])\n",
    "\n",
    "#Calculate ASE cyp1/cyp2\n",
    "ALL['ASE'] = ALL['AREA_x']/ALL['AREA_y']\n",
    "#Drop inf and NaN samples\n",
    "ALL = ALL.drop([13,17,76,80,85])\n",
    "##print('all',len(ALL))\n",
    "\n",
    "#plot raw ASE on cDNA samples\n",
    "RNA = ALL.loc[ALL['cDNA']==True]\n",
    "##print(len(RNA))\n",
    "RNA.boxplot(column='ASE',by='T')\n",
    "P.title('Raw ASE in single female malpighigian tubules')\n",
    "P.suptitle(\"\")\n",
    "P.ylabel(\"iPLEX area cyp1/area cyp2\")\n",
    "#Estimate amplification bias from ASE on DNA\n",
    "allelic_bias = ALL.loc[ALL['cDNA']==False]\n",
    "##print(len(allelic_bias))\n",
    "allelic_bias.boxplot(column='ASE',by='T')\n",
    "P.title('DNA from single female malpighigian tubules')\n",
    "P.suptitle(\"\")\n",
    "norm_factor = allelic_bias['ASE'].mean()\n",
    "P.ylabel(\"iPLEX area cyp1/area cyp2\")\n",
    "#Plot ASE normalized by the mean allelic bias in DNA (assumes no sample-specific bias for now)\n",
    "RNA['Nase'] = RNA['ASE']/norm_factor\n",
    "#print(len(RNA))\n",
    "RNA.boxplot(column='Nase',by='T')\n",
    "#print('median',RNA['Nase'].median)\n",
    "#print(RNA['Nase'].median())\n",
    "P.title('Normalized ASE in single female malpighigian tubules')\n",
    "P.suptitle(\"\")\n",
    "#P.semilogy()\n",
    "P.ylabel(\"iPLEX area cyp1/area cyp2\")\n",
    "#print(RNA)"
   ]
  },
  {
   "cell_type": "code",
   "execution_count": 18,
   "metadata": {
    "collapsed": false
   },
   "outputs": [
    {
     "name": "stdout",
     "output_type": "stream",
     "text": [
      "C           AREA_x     AREA_y  cDNA      T        ASE       Nase\n",
      "count  13.000000  13.000000    13     13  13.000000  13.000000\n",
      "mean    6.431606   8.769209     1      0   0.756313   0.595779\n",
      "std     0.914795   1.426196     0      0   0.182477   0.143744\n",
      "min     4.742897   5.491794  True  False   0.498651   0.392808\n",
      "25%     5.982958   8.282073     1      0   0.642428   0.506067\n",
      "50%     6.399528   9.133885     1      0   0.727568   0.573135\n",
      "75%     6.931531   9.526989     1      0   0.858870   0.676567\n",
      "max     8.220270  10.444198  True  False   1.112846   0.876635\n",
      "T           AREA_x     AREA_y  cDNA     T        ASE       Nase\n",
      "count  39.000000  39.000000    39    39  39.000000  39.000000\n",
      "mean    7.032099  10.090717     1     1   0.711257   0.560286\n",
      "std     2.404755   3.051784     0     0   0.176052   0.138684\n",
      "min     0.346516   0.433489  True  True   0.304951   0.240223\n",
      "25%     5.641328   7.855647     1     1   0.589368   0.464269\n",
      "50%     7.094964  10.409040     1     1   0.771695   0.607896\n",
      "75%     8.501177  12.844315     1     1   0.819211   0.645327\n",
      "max    12.161251  17.257985  True  True   1.041448   0.820392\n"
     ]
    }
   ],
   "source": [
    "#print(RNA.describe())\n",
    "t = RNA.loc[RNA['T']==True]\n",
    "c = RNA.loc[RNA['T']==False]\n",
    "print(\"C\",c.describe())\n",
    "print(\"T\",t.describe())"
   ]
  },
  {
   "cell_type": "code",
   "execution_count": null,
   "metadata": {
    "collapsed": true
   },
   "outputs": [],
   "source": []
  }
 ],
 "metadata": {
  "kernelspec": {
   "display_name": "Python 3",
   "language": "python",
   "name": "python3"
  },
  "language_info": {
   "codemirror_mode": {
    "name": "ipython",
    "version": 3
   },
   "file_extension": ".py",
   "mimetype": "text/x-python",
   "name": "python",
   "nbconvert_exporter": "python",
   "pygments_lexer": "ipython3",
   "version": "3.5.2"
  }
 },
 "nbformat": 4,
 "nbformat_minor": 0
}
